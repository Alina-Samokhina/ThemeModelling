{
 "cells": [
  {
   "cell_type": "markdown",
   "metadata": {},
   "source": [
    "# Imports "
   ]
  },
  {
   "cell_type": "code",
   "execution_count": 1,
   "metadata": {
    "ExecuteTime": {
     "end_time": "2020-12-20T11:18:50.145984Z",
     "start_time": "2020-12-20T11:18:49.283491Z"
    }
   },
   "outputs": [],
   "source": [
    "import artm\n",
    "import pandas as pd\n",
    "from pathlib import Path"
   ]
  },
  {
   "cell_type": "code",
   "execution_count": 2,
   "metadata": {
    "ExecuteTime": {
     "end_time": "2020-12-20T11:18:50.637249Z",
     "start_time": "2020-12-20T11:18:50.147622Z"
    }
   },
   "outputs": [],
   "source": [
    "from sklearn.metrics import f1_score, accuracy_score"
   ]
  },
  {
   "cell_type": "code",
   "execution_count": 3,
   "metadata": {
    "ExecuteTime": {
     "end_time": "2020-12-20T11:18:50.752322Z",
     "start_time": "2020-12-20T11:18:50.639041Z"
    }
   },
   "outputs": [],
   "source": [
    "import numpy as np\n",
    "import matplotlib.pyplot as plt\n"
   ]
  },
  {
   "cell_type": "code",
   "execution_count": 4,
   "metadata": {
    "ExecuteTime": {
     "end_time": "2020-12-20T11:18:50.763083Z",
     "start_time": "2020-12-20T11:18:50.754604Z"
    }
   },
   "outputs": [],
   "source": [
    "data_dir = Path('.')/'data'\n",
    "test_data_json_path = data_dir / 'lemmatized_wo_stopwords/test'\n",
    "train_data_json_path = data_dir / 'lemmatized_wo_stopwords/train'\n",
    "test_data_path = data_dir / 'test_vw.txt'\n",
    "train_data_path = data_dir / 'train_vw.txt'\n",
    "\n",
    "vocab_path = data_dir / 'vocab.txt'\n",
    "test_bathces_path =  data_dir / 'test_batches'\n",
    "train_batches_path =  data_dir / 'train_batches'"
   ]
  },
  {
   "cell_type": "markdown",
   "metadata": {},
   "source": [
    "# Getting data"
   ]
  },
  {
   "cell_type": "markdown",
   "metadata": {},
   "source": [
    "Consists of class ids 1-4 where 1-World, 2-Sports, 3-Business, 4-Sci/Tech "
   ]
  },
  {
   "cell_type": "markdown",
   "metadata": {},
   "source": [
    "## Reading"
   ]
  },
  {
   "cell_type": "code",
   "execution_count": 11,
   "metadata": {
    "ExecuteTime": {
     "end_time": "2020-12-20T11:20:21.232252Z",
     "start_time": "2020-12-20T11:20:21.220731Z"
    }
   },
   "outputs": [],
   "source": [
    "def obtain_vw_format(path_to_file, output_file = 'vw'):\n",
    "    with open(path_to_file) as f:\n",
    "        df = pd.read_json(f, lines = True)\n",
    "    with open(output_file, 'w') as f:\n",
    "        for index, row in df.iterrows():\n",
    "            line = f\"{index} |@default_class {row['text']} |@title_class {row['title']} \"\n",
    "            if 'label' in df.columns:\n",
    "                line += f\" |@labels_class {row['label']}\"\n",
    "            f.write(line + '\\n')\n",
    "    return df"
   ]
  },
  {
   "cell_type": "code",
   "execution_count": 21,
   "metadata": {
    "ExecuteTime": {
     "end_time": "2020-12-20T11:23:04.381397Z",
     "start_time": "2020-12-20T11:22:49.667667Z"
    }
   },
   "outputs": [],
   "source": [
    "df_train = obtain_vw_format(train_data_json_path, train_data_path)\n",
    "df_test = obtain_vw_format(test_data_json_path, test_data_path)\n"
   ]
  },
  {
   "cell_type": "markdown",
   "metadata": {},
   "source": [
    "## Batching"
   ]
  },
  {
   "cell_type": "code",
   "execution_count": 22,
   "metadata": {
    "ExecuteTime": {
     "end_time": "2020-12-20T11:23:05.033822Z",
     "start_time": "2020-12-20T11:23:04.382622Z"
    }
   },
   "outputs": [],
   "source": [
    "batch_vectorizer_test = artm.BatchVectorizer(data_path=str(test_data_path),\n",
    "                                        data_format='vowpal_wabbit',\n",
    "                                        target_folder=str(test_bathces_path))"
   ]
  },
  {
   "cell_type": "code",
   "execution_count": 23,
   "metadata": {
    "ExecuteTime": {
     "end_time": "2020-12-20T11:23:12.084950Z",
     "start_time": "2020-12-20T11:23:05.037588Z"
    }
   },
   "outputs": [],
   "source": [
    "batch_vectorizer_train = artm.BatchVectorizer(data_path=str(train_data_path),\n",
    "                                        data_format='vowpal_wabbit',\n",
    "                                        target_folder=str(train_batches_path))"
   ]
  },
  {
   "cell_type": "markdown",
   "metadata": {},
   "source": [
    "## Building vocabulary "
   ]
  },
  {
   "cell_type": "code",
   "execution_count": 24,
   "metadata": {
    "ExecuteTime": {
     "end_time": "2020-12-20T11:23:17.888720Z",
     "start_time": "2020-12-20T11:23:12.098991Z"
    }
   },
   "outputs": [],
   "source": [
    "dictionary = artm.Dictionary()\n",
    "dictionary.gather(data_path=str(train_batches_path))\n",
    "dictionary.save_text(str(vocab_path))"
   ]
  },
  {
   "cell_type": "markdown",
   "metadata": {},
   "source": [
    "# ARTM model"
   ]
  },
  {
   "cell_type": "markdown",
   "metadata": {},
   "source": [
    "## 1 theme for class"
   ]
  },
  {
   "cell_type": "code",
   "execution_count": 60,
   "metadata": {
    "ExecuteTime": {
     "end_time": "2020-12-20T11:50:33.469341Z",
     "start_time": "2020-12-20T11:50:33.284781Z"
    }
   },
   "outputs": [],
   "source": [
    "model = artm.ARTM(\n",
    "    num_topics=4,\n",
    "    class_ids={\n",
    "        '@default_class': 1.0,\n",
    "        '@title_class': 1.0,\n",
    "        '@labels_class': 1.0},\n",
    "    seed=42,\n",
    "    scores=[\n",
    "        artm.SparsityPhiScore(name='sparsity_phi_score'),\n",
    "        artm.SparsityThetaScore(name='SparsityTheta'),\n",
    "        artm.PerplexityScore(name='PerplexityScore', dictionary=dictionary),\n",
    "        artm.scores.TopTokensScore(\n",
    "            name='TopTokensScore', dictionary=dictionary,\n",
    "                                                   num_tokens=50),\n",
    "    ],\n",
    "    regularizers=[\n",
    "        artm.SmoothSparsePhiRegularizer(\n",
    "            name='SparsePhi', tau=-0.15\n",
    "        ),\n",
    "        artm.SmoothSparseThetaRegularizer(\n",
    "            name='ThetaSparsifier', tau=-0.15\n",
    "        ),\n",
    "        artm.DecorrelatorPhiRegularizer(\n",
    "            name='decorrelator_phi_def', tau=250, class_ids=['@default_class']\n",
    "        ),\n",
    "        artm.DecorrelatorPhiRegularizer(name='decorrelator_phi_title',tau = 250, class_ids=['@bigram_class']),\n",
    "        artm.DecorrelatorPhiRegularizer(name='decorrelator_phi_lab',tau = 250, class_ids=['@labels_class']),\n",
    "\n",
    "    ],\n",
    ")"
   ]
  },
  {
   "cell_type": "code",
   "execution_count": 61,
   "metadata": {
    "ExecuteTime": {
     "end_time": "2020-12-20T11:50:35.992501Z",
     "start_time": "2020-12-20T11:50:35.315518Z"
    }
   },
   "outputs": [],
   "source": [
    "model.initialize(dictionary)"
   ]
  },
  {
   "cell_type": "code",
   "execution_count": 62,
   "metadata": {
    "ExecuteTime": {
     "end_time": "2020-12-20T11:51:20.799621Z",
     "start_time": "2020-12-20T11:50:35.993916Z"
    }
   },
   "outputs": [],
   "source": [
    "model.fit_offline(batch_vectorizer=batch_vectorizer_train, num_collection_passes=15)"
   ]
  },
  {
   "cell_type": "code",
   "execution_count": 63,
   "metadata": {
    "ExecuteTime": {
     "end_time": "2020-12-20T11:51:26.438033Z",
     "start_time": "2020-12-20T11:51:20.818953Z"
    }
   },
   "outputs": [
    {
     "name": "stdout",
     "output_type": "stream",
     "text": [
      "f1_macro = 0.25707998193477677,     accuracy = 0.25719166666666665\n"
     ]
    }
   ],
   "source": [
    "theta = model.transform(batch_vectorizer=batch_vectorizer_train)\n",
    "p_cd_test = model.transform(\n",
    "    batch_vectorizer=batch_vectorizer_train, \n",
    "    predict_class_id='@labels_class')\n",
    "p_cd_test = p_cd_test.T\n",
    "y_pred = p_cd_test.idxmax(axis=1).astype(int)\n",
    "\n",
    "\n",
    "print(f\"f1_macro = {f1_score(df_train['label'], y_pred, average='macro')}, \\\n",
    "    accuracy = {accuracy_score(df_train['label'], y_pred)}\")\n",
    "\n"
   ]
  },
  {
   "cell_type": "code",
   "execution_count": 64,
   "metadata": {
    "ExecuteTime": {
     "end_time": "2020-12-20T11:51:26.700552Z",
     "start_time": "2020-12-20T11:51:26.439332Z"
    }
   },
   "outputs": [
    {
     "name": "stdout",
     "output_type": "stream",
     "text": [
      "f1_macro = 0.2568836417088359,     accuracy = 0.2569736842105263\n"
     ]
    }
   ],
   "source": [
    "p_cd_test = model.transform(\n",
    "    batch_vectorizer=batch_vectorizer_test, \n",
    "    predict_class_id='@labels_class')\n",
    "p_cd_test = p_cd_test.T\n",
    "y_pred = p_cd_test.idxmax(axis=1).astype(int)\n",
    "\n",
    "\n",
    "print(f\"f1_macro = {f1_score(df_test['label'], y_pred, average='macro')}, \\\n",
    "    accuracy = {accuracy_score(df_test['label'], y_pred)}\")\n",
    "\n"
   ]
  },
  {
   "cell_type": "code",
   "execution_count": 65,
   "metadata": {
    "ExecuteTime": {
     "end_time": "2020-12-20T11:51:26.853729Z",
     "start_time": "2020-12-20T11:51:26.705543Z"
    }
   },
   "outputs": [
    {
     "name": "stdout",
     "output_type": "stream",
     "text": [
      "topic_0: \n",
      "['say', 'us', 'reuters', 'new', 'stock', 'price', 'oil', 'company', 'gt', 'inc', 'york', 'percent', 'report', 'year', 'fullquote', 'million', 'investor', 'rise', 'wednesday', 'thursday', 'tuesday', 'monday', 'billion', 'corp', 'sale', 'friday', 'share', 'market', 'target', 'profit', 'fall', 'com', 'http', 'ww', 'href', 'ticker', 'world', 'co', 'reuter', 'bank', 'group', 'cut', 'largest', 'dollar', 'quickinfo', 'aspx', 'month', 'yesterday', 'increase', 'federal']\n",
      "topic_1: \n",
      "['new', 'company', 'say', 'software', 'gt', 'service', 'microsoft', 'quot', 'internet', 'computer', 'use', 'announce', 'technology', 'system', 'inc', 'make', 'search', 'year', 'phone', 'corp', 'online', 'business', 'space', 'music', 'launch', 'web', 'plan', 'security', 'mobile', 'release', 'first', 'com', 'one', 'p', 'wireless', 'user', 'google', 'world', 'could', 'today', 'week', 'million', 'product', 'network', 'offer', 'version', 'ibm', 'next', 'get', 'windows']\n",
      "topic_2: \n",
      "['win', 'game', 'first', 'team', 'new', 'ap', 'season', 'night', 'last', 'world', 'one', 'victory', 'two', 'sunday', 'year', 'league', 'lead', 'play', 'saturday', 'cup', 'coach', 'run', 'time', 'take', 'player', 'york', 'second', 'quot', 'point', 'make', 'score', 'final', 'day', 'red', 'get', 'back', 'series', 'start', 'beat', 'three', 'yesterday', 'sports', 'week', 'olympic', 'friday', 'wednesday', 'athens', 'go', 'championship', 'england']\n",
      "topic_3: \n",
      "['say', 'president', 'us', 'reuters', 'iraq', 'official', 'kill', 'minister', 'ap', 'people', 'two', 'quot', 'government', 'country', 'leader', 'election', 'prime', 'attack', 'bush', 'united', 'yesterday', 'force', 'afp', 'wednesday', 'thursday', 'monday', 'state', 'friday', 'sunday', 'tuesday', 'police', 'city', 'security', 'iraqi', 'baghdad', 'three', 'military', 'saturday', 'former', 'day', 'new', 'john', 'least', 'week', 'palestinian', 'group', 'un', 'talk', 'year', 'one']\n"
     ]
    }
   ],
   "source": [
    "for topic_name in model.topic_names:\n",
    "    print(topic_name + ': ')\n",
    "    print(model.score_tracker['TopTokensScore'].last_tokens[topic_name])"
   ]
  },
  {
   "cell_type": "markdown",
   "metadata": {},
   "source": [
    "given  1-World, 2-Sports, 3-Business, 4-Sci/Tech \n",
    "\n",
    "topics:\n",
    "    - 0 : Business\n",
    "    - 1 : Sci|Tech\n",
    "    - 2 : sports\n",
    "    - 3 : World"
   ]
  },
  {
   "cell_type": "code",
   "execution_count": 66,
   "metadata": {
    "ExecuteTime": {
     "end_time": "2020-12-20T11:52:40.608024Z",
     "start_time": "2020-12-20T11:52:40.601944Z"
    }
   },
   "outputs": [],
   "source": [
    "labels = ['3', '4', '2', '1']"
   ]
  },
  {
   "cell_type": "markdown",
   "metadata": {},
   "source": [
    "# Генерация новых документов"
   ]
  },
  {
   "cell_type": "code",
   "execution_count": 68,
   "metadata": {
    "ExecuteTime": {
     "end_time": "2020-12-20T12:01:32.388093Z",
     "start_time": "2020-12-20T12:01:32.372491Z"
    }
   },
   "outputs": [],
   "source": [
    "def obtain_new_docs(model, labels, num_docs, num_tokens):\n",
    "    df = pd.DataFrame()\n",
    "    for topic_name, label in zip(model.topic_names, labels):\n",
    "        for i in range(num_docs):\n",
    "            tokens = np.random.choice(model.score_tracker['TopTokensScore'].last_tokens[topic_name], num_tokens)\n",
    "            text = ' '.join([str(elem) for elem in tokens])\n",
    "            row = {\n",
    "                'text' : text,\n",
    "                'title' : ' '.join([str(elem) for elem in tokens[:5]]),\n",
    "               # 'ngrams' : get_bigrams(text),\n",
    "                'label' : label,\n",
    "            }\n",
    "            df = df.append(row, ignore_index = True)\n",
    "    return df"
   ]
  },
  {
   "cell_type": "code",
   "execution_count": 69,
   "metadata": {
    "ExecuteTime": {
     "end_time": "2020-12-20T12:01:32.590133Z",
     "start_time": "2020-12-20T12:01:32.583342Z"
    }
   },
   "outputs": [],
   "source": [
    "def obtain_vw_format_from_df(df, output_file = 'vw'):\n",
    "    with open(output_file, 'w') as f:\n",
    "        for index, row in df.iterrows():\n",
    "            line = f\"{index} |@default_class {row['text']} |@title_class {row['title']}\"\n",
    "            if 'label' in df.columns:\n",
    "                line += f\" |@labels_class {row['label']}\"\n",
    "            #print(line)\n",
    "            f.write(line + '\\n')\n",
    "    return df"
   ]
  },
  {
   "cell_type": "code",
   "execution_count": 70,
   "metadata": {
    "ExecuteTime": {
     "end_time": "2020-12-20T12:01:33.552489Z",
     "start_time": "2020-12-20T12:01:33.542171Z"
    }
   },
   "outputs": [],
   "source": [
    "df_train_new = df_train.copy()"
   ]
  },
  {
   "cell_type": "code",
   "execution_count": 71,
   "metadata": {
    "ExecuteTime": {
     "end_time": "2020-12-20T12:01:35.548848Z",
     "start_time": "2020-12-20T12:01:34.637899Z"
    }
   },
   "outputs": [],
   "source": [
    "augm = obtain_new_docs(model, labels, 10, 10)"
   ]
  },
  {
   "cell_type": "code",
   "execution_count": 72,
   "metadata": {
    "ExecuteTime": {
     "end_time": "2020-12-20T12:01:35.578775Z",
     "start_time": "2020-12-20T12:01:35.550218Z"
    }
   },
   "outputs": [
    {
     "name": "stderr",
     "output_type": "stream",
     "text": [
      "/home/alina/conda/anaconda3/lib/python3.7/site-packages/pandas/core/frame.py:7138: FutureWarning: Sorting because non-concatenation axis is not aligned. A future version\n",
      "of pandas will change to not sort by default.\n",
      "\n",
      "To accept the future behavior, pass 'sort=False'.\n",
      "\n",
      "To retain the current behavior and silence the warning, pass 'sort=True'.\n",
      "\n",
      "  sort=sort,\n"
     ]
    }
   ],
   "source": [
    "df_train_new = df_train_new.append(augm, ignore_index = True)"
   ]
  },
  {
   "cell_type": "code",
   "execution_count": 76,
   "metadata": {
    "ExecuteTime": {
     "end_time": "2020-12-20T12:02:52.790209Z",
     "start_time": "2020-12-20T12:02:52.781311Z"
    }
   },
   "outputs": [],
   "source": [
    "scores = pd.DataFrame()"
   ]
  },
  {
   "cell_type": "code",
   "execution_count": null,
   "metadata": {
    "ExecuteTime": {
     "end_time": "2020-12-20T15:16:46.705550Z",
     "start_time": "2020-12-20T14:15:38.494722Z"
    }
   },
   "outputs": [],
   "source": [
    "themes = 4\n",
    "for doc_num in [10, 25, 50, 75, 100, 125, 150, 200]:\n",
    "    for tok_num in [10, 15, 25, 35, 45]:#[20, 30, 40, 50]:\n",
    "        df_train_new = df_train.copy()        \n",
    "        augm = obtain_new_docs(model, labels, doc_num, tok_num)     \n",
    "        df_train_new = df_train_new.append(augm, ignore_index = True)     \n",
    "        df_train_new = obtain_vw_format_from_df(df_train_new, train_data_path)\n",
    "        \n",
    "        batch_vectorizer_test = artm.BatchVectorizer(data_path=str(test_data_path),\n",
    "                                        data_format='vowpal_wabbit',\n",
    "                                        target_folder=str(test_bathces_path))\n",
    "\n",
    "        batch_vectorizer_train = artm.BatchVectorizer(data_path=str(train_data_path),\n",
    "                                                data_format='vowpal_wabbit',\n",
    "                                                target_folder=str(train_batches_path))\n",
    "\n",
    "        ## Building vocabulary \n",
    "\n",
    "        dictionary = artm.Dictionary()\n",
    "        dictionary.gather(data_path=str(train_batches_path))\n",
    "        dictionary.save_text(str(vocab_path))\n",
    "\n",
    "        model = artm.ARTM(\n",
    "            num_topics=themes,\n",
    "            class_ids={\n",
    "                '@default_class': 1.0,\n",
    "                '@title_class': 1.0,\n",
    "                '@bigram_class': 1.0,\n",
    "                '@labels_class': 1.0},\n",
    "            seed=42,\n",
    "            scores=[\n",
    "                artm.SparsityPhiScore(name='sparsity_phi_score'),\n",
    "                artm.SparsityThetaScore(name='SparsityTheta'),\n",
    "                artm.PerplexityScore(name='PerplexityScore', dictionary=dictionary),\n",
    "                artm.scores.TopTokensScore(\n",
    "                    name='TopTokensScore', dictionary=dictionary,\n",
    "                                                           num_tokens=50),\n",
    "            ],\n",
    "            regularizers=[\n",
    "                artm.SmoothSparsePhiRegularizer(\n",
    "                    name='SparsePhi', tau=-0.15\n",
    "                ),\n",
    "                artm.SmoothSparseThetaRegularizer(\n",
    "                    name='ThetaSparsifier', tau=-0.15\n",
    "                ),\n",
    "                artm.DecorrelatorPhiRegularizer(\n",
    "                    name='decorrelator_phi_def', tau=25, class_ids=['@default_class']\n",
    "                ),\n",
    "                artm.DecorrelatorPhiRegularizer(name='decorrelator_phi_title',tau = 25, class_ids=['@bigram_class']),\n",
    "                artm.DecorrelatorPhiRegularizer(name='decorrelator_phi_lab',tau = 25, class_ids=['@labels_class']),\n",
    "            ],\n",
    "        )\n",
    "\n",
    "        model.initialize(dictionary)\n",
    "        model.fit_offline(batch_vectorizer=batch_vectorizer_train, num_collection_passes=5)\n",
    "\n",
    "        theta = model.transform(batch_vectorizer=batch_vectorizer_test)\n",
    "        p_cd_test = model.transform(\n",
    "            batch_vectorizer=batch_vectorizer_test, \n",
    "            predict_class_id='@labels_class')\n",
    "        p_cd_test = p_cd_test.T\n",
    "        y_pred = p_cd_test.idxmax(axis=1).astype(int)\n",
    "\n",
    "        row = {\n",
    "            'themes': themes,\n",
    "            'docs': doc_num,\n",
    "            'terms': tok_num,\n",
    "            'f1': f1_score(df_test['label'], y_pred, average='macro'),\n",
    "            'accuracy': accuracy_score(df_test['label'], y_pred),\n",
    "        }\n",
    "        print(row)\n",
    "        \n",
    "        scores = scores.append(row, ignore_index = True)\n"
   ]
  },
  {
   "cell_type": "code",
   "execution_count": 112,
   "metadata": {
    "ExecuteTime": {
     "end_time": "2020-12-20T15:16:46.734538Z",
     "start_time": "2020-12-20T15:16:46.713056Z"
    }
   },
   "outputs": [
    {
     "data": {
      "text/html": [
       "<div>\n",
       "<style scoped>\n",
       "    .dataframe tbody tr th:only-of-type {\n",
       "        vertical-align: middle;\n",
       "    }\n",
       "\n",
       "    .dataframe tbody tr th {\n",
       "        vertical-align: top;\n",
       "    }\n",
       "\n",
       "    .dataframe thead th {\n",
       "        text-align: right;\n",
       "    }\n",
       "</style>\n",
       "<table border=\"1\" class=\"dataframe\">\n",
       "  <thead>\n",
       "    <tr style=\"text-align: right;\">\n",
       "      <th></th>\n",
       "      <th>accuracy</th>\n",
       "      <th>docs</th>\n",
       "      <th>f1</th>\n",
       "      <th>terms</th>\n",
       "      <th>themes</th>\n",
       "    </tr>\n",
       "  </thead>\n",
       "  <tbody>\n",
       "    <tr>\n",
       "      <th>0</th>\n",
       "      <td>0.329868</td>\n",
       "      <td>10.0</td>\n",
       "      <td>0.329365</td>\n",
       "      <td>20.0</td>\n",
       "      <td>4.0</td>\n",
       "    </tr>\n",
       "    <tr>\n",
       "      <th>1</th>\n",
       "      <td>0.243684</td>\n",
       "      <td>10.0</td>\n",
       "      <td>0.243504</td>\n",
       "      <td>30.0</td>\n",
       "      <td>4.0</td>\n",
       "    </tr>\n",
       "    <tr>\n",
       "      <th>2</th>\n",
       "      <td>0.253553</td>\n",
       "      <td>10.0</td>\n",
       "      <td>0.253430</td>\n",
       "      <td>40.0</td>\n",
       "      <td>4.0</td>\n",
       "    </tr>\n",
       "    <tr>\n",
       "      <th>3</th>\n",
       "      <td>0.249605</td>\n",
       "      <td>10.0</td>\n",
       "      <td>0.249460</td>\n",
       "      <td>50.0</td>\n",
       "      <td>4.0</td>\n",
       "    </tr>\n",
       "    <tr>\n",
       "      <th>4</th>\n",
       "      <td>0.368421</td>\n",
       "      <td>25.0</td>\n",
       "      <td>0.367954</td>\n",
       "      <td>20.0</td>\n",
       "      <td>4.0</td>\n",
       "    </tr>\n",
       "    <tr>\n",
       "      <th>...</th>\n",
       "      <td>...</td>\n",
       "      <td>...</td>\n",
       "      <td>...</td>\n",
       "      <td>...</td>\n",
       "      <td>...</td>\n",
       "    </tr>\n",
       "    <tr>\n",
       "      <th>67</th>\n",
       "      <td>0.328947</td>\n",
       "      <td>200.0</td>\n",
       "      <td>0.328509</td>\n",
       "      <td>10.0</td>\n",
       "      <td>4.0</td>\n",
       "    </tr>\n",
       "    <tr>\n",
       "      <th>68</th>\n",
       "      <td>0.249079</td>\n",
       "      <td>200.0</td>\n",
       "      <td>0.249048</td>\n",
       "      <td>15.0</td>\n",
       "      <td>4.0</td>\n",
       "    </tr>\n",
       "    <tr>\n",
       "      <th>69</th>\n",
       "      <td>0.252500</td>\n",
       "      <td>200.0</td>\n",
       "      <td>0.252210</td>\n",
       "      <td>25.0</td>\n",
       "      <td>4.0</td>\n",
       "    </tr>\n",
       "    <tr>\n",
       "      <th>70</th>\n",
       "      <td>0.258947</td>\n",
       "      <td>200.0</td>\n",
       "      <td>0.258757</td>\n",
       "      <td>35.0</td>\n",
       "      <td>4.0</td>\n",
       "    </tr>\n",
       "    <tr>\n",
       "      <th>71</th>\n",
       "      <td>0.333026</td>\n",
       "      <td>200.0</td>\n",
       "      <td>0.332578</td>\n",
       "      <td>45.0</td>\n",
       "      <td>4.0</td>\n",
       "    </tr>\n",
       "  </tbody>\n",
       "</table>\n",
       "<p>72 rows × 5 columns</p>\n",
       "</div>"
      ],
      "text/plain": [
       "    accuracy   docs        f1  terms  themes\n",
       "0   0.329868   10.0  0.329365   20.0     4.0\n",
       "1   0.243684   10.0  0.243504   30.0     4.0\n",
       "2   0.253553   10.0  0.253430   40.0     4.0\n",
       "3   0.249605   10.0  0.249460   50.0     4.0\n",
       "4   0.368421   25.0  0.367954   20.0     4.0\n",
       "..       ...    ...       ...    ...     ...\n",
       "67  0.328947  200.0  0.328509   10.0     4.0\n",
       "68  0.249079  200.0  0.249048   15.0     4.0\n",
       "69  0.252500  200.0  0.252210   25.0     4.0\n",
       "70  0.258947  200.0  0.258757   35.0     4.0\n",
       "71  0.333026  200.0  0.332578   45.0     4.0\n",
       "\n",
       "[72 rows x 5 columns]"
      ]
     },
     "execution_count": 112,
     "metadata": {},
     "output_type": "execute_result"
    }
   ],
   "source": [
    "scores"
   ]
  },
  {
   "cell_type": "code",
   "execution_count": 121,
   "metadata": {
    "ExecuteTime": {
     "end_time": "2020-12-20T15:26:35.661267Z",
     "start_time": "2020-12-20T15:26:35.649911Z"
    }
   },
   "outputs": [],
   "source": [
    "scores = scores.sort_values(by = 'terms')"
   ]
  },
  {
   "cell_type": "code",
   "execution_count": 132,
   "metadata": {
    "ExecuteTime": {
     "end_time": "2020-12-20T15:36:58.419530Z",
     "start_time": "2020-12-20T15:36:58.399485Z"
    }
   },
   "outputs": [],
   "source": [
    "terms_mean = scores.groupby('terms').mean()\n",
    "terms_std = scores.groupby('terms').std()"
   ]
  },
  {
   "cell_type": "code",
   "execution_count": 143,
   "metadata": {
    "ExecuteTime": {
     "end_time": "2020-12-20T15:43:42.989590Z",
     "start_time": "2020-12-20T15:43:42.982567Z"
    }
   },
   "outputs": [
    {
     "data": {
      "text/plain": [
       "array([0.30618235, 0.271008  , 0.27552078, 0.27937265, 0.29700754,\n",
       "       0.2701146 , 0.34002845, 0.27568269, 0.27214728])"
      ]
     },
     "execution_count": 143,
     "metadata": {},
     "output_type": "execute_result"
    }
   ],
   "source": [
    "np.array(terms_mean['f1'])"
   ]
  },
  {
   "cell_type": "code",
   "execution_count": 148,
   "metadata": {
    "ExecuteTime": {
     "end_time": "2020-12-20T15:45:57.867477Z",
     "start_time": "2020-12-20T15:45:57.454048Z"
    }
   },
   "outputs": [
    {
     "data": {
      "image/png": "[encoded data removed]",
      "text/plain": [
       "<Figure size 432x288 with 1 Axes>"
      ]
     },
     "metadata": {
      "needs_background": "light"
     },
     "output_type": "display_data"
    }
   ],
   "source": [
    "plt.plot(terms_mean.index, terms_mean['f1'], '--o')\n",
    "plt.fill_between(terms_mean.index, np.array(terms_mean['f1'])-np.array(terms_std['f1']), np.array(terms_mean['f1'])+np.array(terms_std['f1']), alpha = 0.5)\n",
    "plt.grid(True)\n",
    "plt.xlabel('number of words')\n",
    "plt.ylabel('f1-score')\n",
    "plt.show()"
   ]
  },
  {
   "cell_type": "code",
   "execution_count": null,
   "metadata": {},
   "outputs": [],
   "source": [
    "scores = scores.sort_values(by = 'docs')\n",
    "docs_mean = scores.groupby('docs').mean()\n",
    "docs_std = scores.groupby('docs').std()"
   ]
  },
  {
   "cell_type": "code",
   "execution_count": 147,
   "metadata": {
    "ExecuteTime": {
     "end_time": "2020-12-20T15:45:45.437495Z",
     "start_time": "2020-12-20T15:45:45.030516Z"
    }
   },
   "outputs": [
    {
     "data": {
      "image/png": "[encoded data removed]",
      "text/plain": [
       "<Figure size 432x288 with 1 Axes>"
      ]
     },
     "metadata": {
      "needs_background": "light"
     },
     "output_type": "display_data"
    }
   ],
   "source": [
    "plt.plot(docs_mean.index, docs_mean['f1'], '--o')\n",
    "plt.fill_between(docs_mean.index, np.array(docs_mean['f1'])-np.array(docs_std['f1']), np.array(docs_mean['f1'])+np.array(docs_std['f1']), alpha = 0.5)\n",
    "plt.grid(True)\n",
    "plt.xlabel('number of docs')\n",
    "plt.ylabel('f1-score')\n",
    "plt.show()"
   ]
  },
  {
   "cell_type": "code",
   "execution_count": 174,
   "metadata": {
    "ExecuteTime": {
     "end_time": "2020-12-20T16:10:34.647355Z",
     "start_time": "2020-12-20T16:10:34.636637Z"
    }
   },
   "outputs": [],
   "source": [
    "n = 150\n",
    "scores = scores.sort_values(by = 'terms')"
   ]
  },
  {
   "cell_type": "code",
   "execution_count": null,
   "metadata": {
    "ExecuteTime": {
     "end_time": "2020-12-20T16:10:34.941934Z",
     "start_time": "2020-12-20T16:10:34.726807Z"
    }
   },
   "outputs": [],
   "source": [
    "plt.plot(scores[scores['docs']==n]['terms'], scores[scores['docs']==n]['f1'], '--o')\n",
    "plt.grid(True)\n",
    "plt.xlabel('number of words')\n",
    "plt.ylabel('f1-score')\n",
    "plt.show()"
   ]
  },
  {
   "cell_type": "code",
   "execution_count": 177,
   "metadata": {
    "ExecuteTime": {
     "end_time": "2020-12-20T16:11:10.616464Z",
     "start_time": "2020-12-20T16:11:10.614075Z"
    }
   },
   "outputs": [],
   "source": [
    "m=50"
   ]
  },
  {
   "cell_type": "code",
   "execution_count": 178,
   "metadata": {
    "ExecuteTime": {
     "end_time": "2020-12-20T16:11:10.872414Z",
     "start_time": "2020-12-20T16:11:10.865728Z"
    }
   },
   "outputs": [],
   "source": [
    "scores = scores.sort_values(by = 'docs')"
   ]
  },
  {
   "cell_type": "code",
   "execution_count": 179,
   "metadata": {
    "ExecuteTime": {
     "end_time": "2020-12-20T16:11:11.261897Z",
     "start_time": "2020-12-20T16:11:11.075465Z"
    }
   },
   "outputs": [
    {
     "data": {
      "image/png": "[encoded data removed]",
      "text/plain": [
       "<Figure size 432x288 with 1 Axes>"
      ]
     },
     "metadata": {
      "needs_background": "light"
     },
     "output_type": "display_data"
    }
   ],
   "source": [
    "scores = scores.sort_values(by = 'docs')\n",
    "plt.plot(scores[scores['terms']==m]['docs'], scores[scores['terms']==m]['f1'], '--o')\n",
    "plt.grid(True)\n",
    "plt.xlabel('number of docs')\n",
    "plt.ylabel('f1-score')\n",
    "plt.show()"
   ]
  },
  {
   "cell_type": "code",
   "execution_count": 181,
   "metadata": {
    "ExecuteTime": {
     "end_time": "2020-12-20T16:13:45.406411Z",
     "start_time": "2020-12-20T16:13:45.384469Z"
    }
   },
   "outputs": [
    {
     "data": {
      "text/html": [
       "<div>\n",
       "<style scoped>\n",
       "    .dataframe tbody tr th:only-of-type {\n",
       "        vertical-align: middle;\n",
       "    }\n",
       "\n",
       "    .dataframe tbody tr th {\n",
       "        vertical-align: top;\n",
       "    }\n",
       "\n",
       "    .dataframe thead th {\n",
       "        text-align: right;\n",
       "    }\n",
       "</style>\n",
       "<table border=\"1\" class=\"dataframe\">\n",
       "  <thead>\n",
       "    <tr style=\"text-align: right;\">\n",
       "      <th></th>\n",
       "      <th>accuracy</th>\n",
       "      <th>docs</th>\n",
       "      <th>f1</th>\n",
       "      <th>terms</th>\n",
       "      <th>themes</th>\n",
       "    </tr>\n",
       "  </thead>\n",
       "  <tbody>\n",
       "    <tr>\n",
       "      <th>25</th>\n",
       "      <td>0.373553</td>\n",
       "      <td>150.0</td>\n",
       "      <td>0.373189</td>\n",
       "      <td>30.0</td>\n",
       "      <td>4.0</td>\n",
       "    </tr>\n",
       "    <tr>\n",
       "      <th>26</th>\n",
       "      <td>0.595395</td>\n",
       "      <td>150.0</td>\n",
       "      <td>0.594630</td>\n",
       "      <td>40.0</td>\n",
       "      <td>4.0</td>\n",
       "    </tr>\n",
       "    <tr>\n",
       "      <th>24</th>\n",
       "      <td>0.259474</td>\n",
       "      <td>150.0</td>\n",
       "      <td>0.259429</td>\n",
       "      <td>20.0</td>\n",
       "      <td>4.0</td>\n",
       "    </tr>\n",
       "    <tr>\n",
       "      <th>65</th>\n",
       "      <td>0.247368</td>\n",
       "      <td>150.0</td>\n",
       "      <td>0.247309</td>\n",
       "      <td>35.0</td>\n",
       "      <td>4.0</td>\n",
       "    </tr>\n",
       "    <tr>\n",
       "      <th>64</th>\n",
       "      <td>0.401184</td>\n",
       "      <td>150.0</td>\n",
       "      <td>0.400677</td>\n",
       "      <td>25.0</td>\n",
       "      <td>4.0</td>\n",
       "    </tr>\n",
       "    <tr>\n",
       "      <th>62</th>\n",
       "      <td>0.244605</td>\n",
       "      <td>150.0</td>\n",
       "      <td>0.244531</td>\n",
       "      <td>10.0</td>\n",
       "      <td>4.0</td>\n",
       "    </tr>\n",
       "    <tr>\n",
       "      <th>63</th>\n",
       "      <td>0.301053</td>\n",
       "      <td>150.0</td>\n",
       "      <td>0.300785</td>\n",
       "      <td>15.0</td>\n",
       "      <td>4.0</td>\n",
       "    </tr>\n",
       "    <tr>\n",
       "      <th>66</th>\n",
       "      <td>0.249868</td>\n",
       "      <td>150.0</td>\n",
       "      <td>0.249663</td>\n",
       "      <td>45.0</td>\n",
       "      <td>4.0</td>\n",
       "    </tr>\n",
       "    <tr>\n",
       "      <th>27</th>\n",
       "      <td>0.333158</td>\n",
       "      <td>150.0</td>\n",
       "      <td>0.332806</td>\n",
       "      <td>50.0</td>\n",
       "      <td>4.0</td>\n",
       "    </tr>\n",
       "  </tbody>\n",
       "</table>\n",
       "</div>"
      ],
      "text/plain": [
       "    accuracy   docs        f1  terms  themes\n",
       "25  0.373553  150.0  0.373189   30.0     4.0\n",
       "26  0.595395  150.0  0.594630   40.0     4.0\n",
       "24  0.259474  150.0  0.259429   20.0     4.0\n",
       "65  0.247368  150.0  0.247309   35.0     4.0\n",
       "64  0.401184  150.0  0.400677   25.0     4.0\n",
       "62  0.244605  150.0  0.244531   10.0     4.0\n",
       "63  0.301053  150.0  0.300785   15.0     4.0\n",
       "66  0.249868  150.0  0.249663   45.0     4.0\n",
       "27  0.333158  150.0  0.332806   50.0     4.0"
      ]
     },
     "execution_count": 181,
     "metadata": {},
     "output_type": "execute_result"
    }
   ],
   "source": [
    "scores[scores['docs']==n]"
   ]
  },
  {
   "cell_type": "code",
   "execution_count": null,
   "metadata": {},
   "outputs": [],
   "source": []
  }
 ],
 "metadata": {
  "hide_input": false,
  "kernelspec": {
   "display_name": "Python 3",
   "language": "python",
   "name": "python3"
  },
  "language_info": {
   "codemirror_mode": {
    "name": "ipython",
    "version": 3
   },
   "file_extension": ".py",
   "mimetype": "text/x-python",
   "name": "python",
   "nbconvert_exporter": "python",
   "pygments_lexer": "ipython3",
   "version": "3.7.6"
  },
  "toc": {
   "base_numbering": 1,
   "nav_menu": {},
   "number_sections": true,
   "sideBar": true,
   "skip_h1_title": false,
   "title_cell": "Table of Contents",
   "title_sidebar": "Contents",
   "toc_cell": false,
   "toc_position": {},
   "toc_section_display": true,
   "toc_window_display": false
  }
 },
 "nbformat": 4,
 "nbformat_minor": 4
}
